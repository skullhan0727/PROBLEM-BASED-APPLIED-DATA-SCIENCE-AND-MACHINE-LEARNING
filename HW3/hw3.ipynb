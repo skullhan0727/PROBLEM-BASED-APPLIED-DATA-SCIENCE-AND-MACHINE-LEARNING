{
 "cells": [
  {
   "cell_type": "markdown",
   "metadata": {},
   "source": [
    "# HW3 - Stock Movement Prediction\n",
    "\n",
    "作業檔案：\n",
    "- hw3.ipynb\n",
    "\n",
    "資料：\n",
    "https://www.sharecast.com/index/SP_500/prices/download\n",
    "\n",
    "- train.csv: S&P 500 訓練資料(2009-2017)\n",
    "- test.csv: S&P 500 測試資料(2018)\n"
   ]
  },
  {
   "cell_type": "code",
   "execution_count": 2,
   "metadata": {},
   "outputs": [
    {
     "name": "stdout",
     "output_type": "stream",
     "text": [
      "(2264, 6)\n",
      "          Date  Open Price  Close Price  High Price  Low Price      Volume\n",
      "0  02-Jan-2009      902.99       931.80      934.73     899.35  4048270080\n",
      "1  05-Jan-2009      929.17       927.45      936.63     919.53  5413910016\n",
      "2  06-Jan-2009      931.17       934.70      943.85     927.28  5392620032\n",
      "3  07-Jan-2009      927.45       906.65      927.45     902.37  4704940032\n",
      "4  08-Jan-2009      905.73       909.73      910.00     896.81  4991549952\n",
      "(252, 6)\n",
      "          Date  Open Price  Close Price  High Price  Low Price      Volume\n",
      "0  02-Jan-2018     2683.73      2695.81     2695.89    2682.36  1846463232\n",
      "1  03-Jan-2018     2697.85      2713.06     2714.37    2697.77  2090595328\n",
      "2  04-Jan-2018     2719.31      2723.99     2729.29    2719.07  2100767744\n",
      "3  05-Jan-2018     2731.33      2743.15     2743.45    2727.92  1918869120\n",
      "4  08-Jan-2018     2742.67      2747.71     2748.51    2737.60  1894823936\n"
     ]
    }
   ],
   "source": [
    "# Read data\n",
    "\n",
    "import pandas as pd\n",
    "import numpy as np\n",
    "\n",
    "train_data_path = './train.csv'\n",
    "test_data_path = './test.csv'\n",
    "\n",
    "train_df = pd.read_csv(train_data_path)\n",
    "test_df = pd.read_csv(test_data_path)\n",
    "\n",
    "print(train_df.shape)\n",
    "print(train_df.head())\n",
    "print(test_df.shape)\n",
    "print(test_df.head())"
   ]
  },
  {
   "cell_type": "code",
   "execution_count": 3,
   "metadata": {
    "scrolled": true
   },
   "outputs": [
    {
     "name": "stdout",
     "output_type": "stream",
     "text": [
      "(2264, 5)\n",
      "   Open Price  Close Price  High Price  Low Price      Volume\n",
      "0      902.99       931.80      934.73     899.35  4048270080\n",
      "1      929.17       927.45      936.63     919.53  5413910016\n",
      "2      931.17       934.70      943.85     927.28  5392620032\n",
      "3      927.45       906.65      927.45     902.37  4704940032\n",
      "4      905.73       909.73      910.00     896.81  4991549952\n",
      "(252, 5)\n",
      "   Open Price  Close Price  High Price  Low Price      Volume\n",
      "0     2683.73      2695.81     2695.89    2682.36  1846463232\n",
      "1     2697.85      2713.06     2714.37    2697.77  2090595328\n",
      "2     2719.31      2723.99     2729.29    2719.07  2100767744\n",
      "3     2731.33      2743.15     2743.45    2727.92  1918869120\n",
      "4     2742.67      2747.71     2748.51    2737.60  1894823936\n"
     ]
    }
   ],
   "source": [
    "# Drop unnecessary columns\n",
    "\n",
    "drop_col_names = ['Date'] # !--- or you can modify it to drop the columns you don't want ---!\n",
    "\n",
    "train_df.drop(columns=drop_col_names, inplace=True)\n",
    "test_df.drop(columns=drop_col_names, inplace=True)\n",
    "\n",
    "print(train_df.shape)\n",
    "print(train_df.head())\n",
    "print(test_df.shape)\n",
    "print(test_df.head())"
   ]
  },
  {
   "cell_type": "code",
   "execution_count": 4,
   "metadata": {},
   "outputs": [
    {
     "name": "stdout",
     "output_type": "stream",
     "text": [
      "   Open Price  Close Price  High Price  Low Price      Volume  \\\n",
      "0      902.99       931.80      934.73     899.35  4048270080   \n",
      "1      929.17       927.45      936.63     919.53  5413910016   \n",
      "2      931.17       934.70      943.85     927.28  5392620032   \n",
      "3      927.45       906.65      927.45     902.37  4704940032   \n",
      "4      905.73       909.73      910.00     896.81  4991549952   \n",
      "\n",
      "   Tomorrow Movement  \n",
      "0                0.0  \n",
      "1                1.0  \n",
      "2                0.0  \n",
      "3                1.0  \n",
      "4                0.0  \n",
      "      Open Price  Close Price  High Price  Low Price      Volume  \\\n",
      "2259     2684.22      2683.34     2685.35    2678.13  1383888512   \n",
      "2260     2679.09      2680.50     2682.74    2677.96  1103808384   \n",
      "2261     2682.10      2682.62     2685.64    2678.91  1149108352   \n",
      "2262     2686.10      2687.54     2687.66    2682.69  1126089856   \n",
      "2263     2689.15      2673.61     2692.12    2673.61  1332374016   \n",
      "\n",
      "      Tomorrow Movement  \n",
      "2259                0.0  \n",
      "2260                1.0  \n",
      "2261                1.0  \n",
      "2262                0.0  \n",
      "2263                NaN  \n"
     ]
    }
   ],
   "source": [
    "# Add the column `Tomorrow Movement` by comparing the `Close Price` with the previous days as the training target\n",
    "\n",
    "train_df['Tomorrow Movement'] = np.where(train_df['Close Price'].diff() >= 0, 1, 0)\n",
    "test_df['Tomorrow Movement'] = np.where(test_df['Close Price'].diff() >= 0, 1, 0)\n",
    "\n",
    "train_df['Tomorrow Movement'] = train_df['Tomorrow Movement'].shift(-1)\n",
    "test_df['Tomorrow Movement'] = test_df['Tomorrow Movement'].shift(-1)\n",
    "\n",
    "print(train_df.head())\n",
    "print(train_df.tail())"
   ]
  },
  {
   "cell_type": "code",
   "execution_count": 5,
   "metadata": {},
   "outputs": [],
   "source": [
    "# !--- You can add your own data preprocessing here ---!"
   ]
  },
  {
   "cell_type": "code",
   "execution_count": 6,
   "metadata": {},
   "outputs": [
    {
     "name": "stdout",
     "output_type": "stream",
     "text": [
      "(2263, 6)\n"
     ]
    }
   ],
   "source": [
    "# Drop rows with NaN values\n",
    "\n",
    "train_df = train_df.dropna()\n",
    "test_df = test_df.dropna()\n",
    "\n",
    "print(train_df.shape)"
   ]
  },
  {
   "cell_type": "code",
   "execution_count": 7,
   "metadata": {},
   "outputs": [
    {
     "name": "stdout",
     "output_type": "stream",
     "text": [
      "(2263, 5)\n",
      "   Open Price  Close Price  High Price  Low Price      Volume\n",
      "0      902.99       931.80      934.73     899.35  4048270080\n",
      "1      929.17       927.45      936.63     919.53  5413910016\n",
      "2      931.17       934.70      943.85     927.28  5392620032\n",
      "3      927.45       906.65      927.45     902.37  4704940032\n",
      "4      905.73       909.73      910.00     896.81  4991549952\n",
      "(2263,)\n",
      "0    0.0\n",
      "1    1.0\n",
      "2    0.0\n",
      "3    1.0\n",
      "4    0.0\n",
      "Name: Tomorrow Movement, dtype: float64\n",
      "-----\n",
      "(251, 5)\n",
      "   Open Price  Close Price  High Price  Low Price      Volume\n",
      "0     2683.73      2695.81     2695.89    2682.36  1846463232\n",
      "1     2697.85      2713.06     2714.37    2697.77  2090595328\n",
      "2     2719.31      2723.99     2729.29    2719.07  2100767744\n",
      "3     2731.33      2743.15     2743.45    2727.92  1918869120\n",
      "4     2742.67      2747.71     2748.51    2737.60  1894823936\n",
      "(251,)\n",
      "0    1.0\n",
      "1    1.0\n",
      "2    1.0\n",
      "3    1.0\n",
      "4    1.0\n",
      "Name: Tomorrow Movement, dtype: float64\n"
     ]
    }
   ],
   "source": [
    "# Divide x and y data\n",
    "\n",
    "train_x_df = train_df.drop(columns=['Tomorrow Movement'])\n",
    "train_y_df = train_df['Tomorrow Movement']\n",
    "\n",
    "test_x_df = test_df.drop(columns=['Tomorrow Movement'])\n",
    "test_y_df = test_df['Tomorrow Movement']\n",
    "\n",
    "print(train_x_df.shape)\n",
    "print(train_x_df.head())\n",
    "print(train_y_df.shape)\n",
    "print(train_y_df.head())\n",
    "print('-----')\n",
    "print(test_x_df.shape)\n",
    "print(test_x_df.head())\n",
    "print(test_y_df.shape)\n",
    "print(test_y_df.head())"
   ]
  },
  {
   "cell_type": "code",
   "execution_count": 8,
   "metadata": {},
   "outputs": [
    {
     "name": "stdout",
     "output_type": "stream",
     "text": [
      "   Open Price  Close Price  High Price  Low Price    Volume\n",
      "0   -1.552572    -1.494607   -1.505683  -1.541181  0.813175\n",
      "1   -1.498571    -1.503581   -1.501760  -1.499581  1.823826\n",
      "2   -1.494446    -1.488625   -1.486853  -1.483605  1.808070\n",
      "3   -1.502119    -1.546489   -1.520714  -1.534956  1.299148\n",
      "4   -1.546921    -1.540136   -1.556744  -1.546417  1.511255\n",
      "0    0.0\n",
      "1    1.0\n",
      "2    0.0\n",
      "3    1.0\n",
      "4    0.0\n",
      "Name: Tomorrow Movement, dtype: float64\n"
     ]
    },
    {
     "name": "stderr",
     "output_type": "stream",
     "text": [
      "C:\\python\\lib\\site-packages\\sklearn\\preprocessing\\data.py:625: DataConversionWarning: Data with input dtype int64, float64 were all converted to float64 by StandardScaler.\n",
      "  return self.partial_fit(X, y)\n",
      "C:\\python\\lib\\site-packages\\ipykernel_launcher.py:10: DataConversionWarning: Data with input dtype int64, float64 were all converted to float64 by StandardScaler.\n",
      "  # Remove the CWD from sys.path while we load stuff.\n",
      "C:\\python\\lib\\site-packages\\ipykernel_launcher.py:21: DataConversionWarning: Data with input dtype int64, float64 were all converted to float64 by StandardScaler.\n"
     ]
    }
   ],
   "source": [
    "# Normalize data\n",
    "\n",
    "# !--- Modify here if you want ---!\n",
    "\n",
    "from sklearn.preprocessing import StandardScaler\n",
    "\n",
    "scaler = StandardScaler()\n",
    "scaler.fit(train_x_df)\n",
    "\n",
    "normalized_train_x_df = scaler.transform(train_x_df)\n",
    "normalized_train_x_df = np.transpose(normalized_train_x_df)\n",
    "\n",
    "normalized_train_x_df = pd.DataFrame({\n",
    "    'Open Price': normalized_train_x_df[0],\n",
    "    'Close Price': normalized_train_x_df[1],\n",
    "    'High Price': normalized_train_x_df[2],\n",
    "    'Low Price': normalized_train_x_df[3],\n",
    "    'Volume': normalized_train_x_df[4],\n",
    "})\n",
    "\n",
    "normalized_test_x_df = scaler.transform(test_x_df)\n",
    "normalized_test_x_df = np.transpose(normalized_test_x_df)\n",
    "normalized_test_x_df = pd.DataFrame({\n",
    "    'Open Price': normalized_test_x_df[0],\n",
    "    'Close Price': normalized_test_x_df[1],\n",
    "    'High Price': normalized_test_x_df[2],\n",
    "    'Low Price': normalized_test_x_df[3],\n",
    "    'Volume': normalized_test_x_df[4],\n",
    "})\n",
    "\n",
    "print(normalized_train_x_df.head())\n",
    "print(train_y_df[:5])"
   ]
  },
  {
   "cell_type": "markdown",
   "metadata": {},
   "source": [
    "# Logistic Regression"
   ]
  },
  {
   "cell_type": "code",
   "execution_count": 9,
   "metadata": {},
   "outputs": [
    {
     "name": "stdout",
     "output_type": "stream",
     "text": [
      "training accuracy:\n",
      "0.5475033141847105\n",
      "\n",
      "testing accuracy:\n",
      "0.5258964143426295\n",
      "\n",
      "predicted testing labels:\n",
      "[1. 1. 1. 1. 1. 1. 1. 1. 1. 1. 1. 1. 1. 1. 1. 1. 1. 1. 1. 1. 1. 1. 1. 1.\n",
      " 0. 1. 1. 1. 1. 1. 1. 1. 1. 1. 1. 1. 1. 1. 1. 1. 1. 1. 1. 1. 1. 1. 1. 1.\n",
      " 1. 1. 1. 1. 1. 1. 1. 1. 1. 1. 1. 1. 1. 1. 1. 1. 1. 1. 1. 1. 1. 1. 1. 1.\n",
      " 1. 1. 1. 1. 1. 1. 1. 1. 1. 1. 1. 1. 1. 1. 1. 1. 1. 1. 1. 1. 1. 1. 1. 1.\n",
      " 1. 1. 1. 1. 1. 1. 1. 1. 1. 1. 1. 1. 1. 1. 1. 1. 1. 1. 1. 1. 1. 1. 1. 1.\n",
      " 1. 1. 1. 1. 1. 1. 1. 1. 1. 1. 1. 1. 1. 1. 1. 1. 1. 1. 1. 1. 1. 1. 1. 1.\n",
      " 1. 1. 1. 1. 1. 1. 1. 1. 1. 1. 1. 1. 1. 1. 1. 1. 1. 1. 1. 1. 1. 1. 1. 1.\n",
      " 1. 1. 1. 1. 1. 1. 1. 1. 1. 1. 1. 1. 1. 1. 1. 1. 1. 1. 1. 1. 1. 1. 1. 1.\n",
      " 1. 1. 1. 1. 1. 1. 1. 1. 1. 1. 1. 1. 1. 1. 1. 1. 1. 1. 1. 1. 1. 1. 1. 1.\n",
      " 1. 1. 1. 1. 1. 1. 1. 1. 1. 1. 1. 1. 1. 1. 1. 1. 1. 1. 1. 1. 1. 1. 1. 1.\n",
      " 1. 1. 1. 1. 1. 1. 1. 1. 0. 1. 1.]\n"
     ]
    },
    {
     "name": "stderr",
     "output_type": "stream",
     "text": [
      "C:\\python\\lib\\site-packages\\sklearn\\linear_model\\logistic.py:433: FutureWarning: Default solver will be changed to 'lbfgs' in 0.22. Specify a solver to silence this warning.\n",
      "  FutureWarning)\n"
     ]
    }
   ],
   "source": [
    "# Train & Predict using Logistic Regression\n",
    "\n",
    "from sklearn.linear_model import LogisticRegression\n",
    "from sklearn.metrics import accuracy_score\n",
    "\n",
    "lr_model =LogisticRegression()  # !--- Initialize the model here ---!\n",
    "lr_model.fit(normalized_train_x_df,train_y_df) # !-- Fill the training data here --!\n",
    "\n",
    "print('training accuracy:')\n",
    "# !-- Predict training target & print the training accuracy here --!\n",
    "lr_training_acc =accuracy_score(lr_model.predict(normalized_train_x_df), train_y_df)\n",
    "print(lr_training_acc)\n",
    "\n",
    "print('\\ntesting accuracy:')\n",
    "# !-- Predict testing target & print the testing accuracy here --!\n",
    "lr_predict_test_result = lr_model.predict(normalized_test_x_df)\n",
    "lr_testing_acc =accuracy_score(lr_model.predict(normalized_test_x_df), test_y_df)\n",
    "print(lr_testing_acc)\n",
    "\n",
    "print('\\npredicted testing labels:')\n",
    "print(lr_predict_test_result)"
   ]
  },
  {
   "cell_type": "code",
   "execution_count": 10,
   "metadata": {},
   "outputs": [
    {
     "name": "stdout",
     "output_type": "stream",
     "text": [
      "precision, recall, fbeta-score:\n",
      "(0.5137282196515144, 0.5258964143426295, 0.3694764768608263, None)\n",
      "\n",
      "confusion matrix(tn, fp, fn, tp):\n",
      "(1, 118, 1, 131)\n"
     ]
    }
   ],
   "source": [
    "# Print precision, recall, fbeta-score and confusion matrix\n",
    "\n",
    "from sklearn.metrics import precision_recall_fscore_support\n",
    "from sklearn.metrics import confusion_matrix\n",
    "\n",
    "print('precision, recall, fbeta-score:')\n",
    "print(precision_recall_fscore_support(test_y_df, lr_predict_test_result, average='weighted'))\n",
    "print('\\nconfusion matrix(tn, fp, fn, tp):')\n",
    "tn, fp, fn, tp = confusion_matrix(test_y_df, lr_predict_test_result).ravel()\n",
    "print((tn, fp, fn, tp))"
   ]
  },
  {
   "cell_type": "markdown",
   "metadata": {},
   "source": [
    "# SVM"
   ]
  },
  {
   "cell_type": "code",
   "execution_count": 11,
   "metadata": {},
   "outputs": [
    {
     "name": "stdout",
     "output_type": "stream",
     "text": [
      "training accuracy:\n",
      "0.5483870967741935\n",
      "\n",
      "testing accuracy:\n",
      "0.5258964143426295\n",
      "\n",
      "predicted testing labels:\n",
      "[1. 1. 1. 1. 1. 1. 1. 1. 1. 1. 1. 1. 1. 1. 1. 1. 1. 1. 1. 1. 1. 1. 1. 1.\n",
      " 1. 1. 1. 1. 1. 1. 1. 1. 1. 1. 1. 1. 1. 1. 1. 1. 1. 1. 1. 1. 1. 1. 1. 1.\n",
      " 1. 1. 1. 1. 1. 1. 1. 1. 1. 1. 1. 1. 1. 1. 1. 1. 1. 1. 1. 1. 1. 1. 1. 1.\n",
      " 1. 1. 1. 1. 1. 1. 1. 1. 1. 1. 1. 1. 1. 1. 1. 1. 1. 1. 1. 1. 1. 1. 1. 1.\n",
      " 1. 1. 1. 1. 1. 1. 1. 1. 1. 1. 1. 1. 1. 1. 1. 1. 1. 1. 1. 1. 1. 1. 1. 1.\n",
      " 1. 1. 1. 1. 1. 1. 1. 1. 1. 1. 1. 1. 1. 1. 1. 1. 1. 1. 1. 1. 1. 1. 1. 1.\n",
      " 1. 1. 1. 1. 1. 1. 1. 1. 1. 1. 1. 1. 1. 1. 1. 1. 1. 1. 1. 1. 1. 1. 1. 1.\n",
      " 1. 1. 1. 1. 1. 1. 1. 1. 1. 1. 1. 1. 1. 1. 1. 1. 1. 1. 1. 1. 1. 1. 1. 1.\n",
      " 1. 1. 1. 1. 1. 1. 1. 1. 1. 1. 1. 1. 1. 1. 1. 1. 1. 1. 1. 1. 1. 1. 1. 1.\n",
      " 1. 1. 1. 1. 1. 1. 1. 1. 1. 1. 1. 1. 1. 1. 1. 1. 1. 1. 1. 1. 1. 1. 1. 1.\n",
      " 1. 1. 1. 1. 1. 1. 1. 1. 1. 1. 1.]\n"
     ]
    }
   ],
   "source": [
    "# Train & Predict with SVC\n",
    "\n",
    "from sklearn.svm import SVC\n",
    "\n",
    "svc_model =SVC()  # !--- Initialize the model here ---!\n",
    "svc_model.fit(normalized_train_x_df,train_y_df) # !-- Fill the training data here --!\n",
    "\n",
    "print('training accuracy:')\n",
    "# !-- Predict training target & print the training accuracy here --!\n",
    "svc_training_acc =accuracy_score(svc_model.predict(normalized_train_x_df), train_y_df) \n",
    "print(svc_training_acc)\n",
    "\n",
    "print('\\ntesting accuracy:')\n",
    "# !-- Predict testing target & print the testing accuracy here --!\n",
    "svc_predict_test_result =svc_model.predict(normalized_test_x_df)\n",
    "svc_testing_acc =accuracy_score(svc_model.predict(normalized_test_x_df), test_y_df) \n",
    "print(svc_testing_acc)\n",
    "\n",
    "print('\\npredicted testing labels:')\n",
    "print(svc_predict_test_result)"
   ]
  },
  {
   "cell_type": "code",
   "execution_count": 12,
   "metadata": {},
   "outputs": [
    {
     "name": "stdout",
     "output_type": "stream",
     "text": [
      "precision, recall, fbeta-score:\n",
      "(0.2765670386184346, 0.5258964143426295, 0.3624977895207681, None)\n",
      "\n",
      "confusion matrix(tn, fp, fn, tp):\n",
      "(0, 119, 0, 132)\n"
     ]
    },
    {
     "name": "stderr",
     "output_type": "stream",
     "text": [
      "C:\\python\\lib\\site-packages\\sklearn\\metrics\\classification.py:1143: UndefinedMetricWarning: Precision and F-score are ill-defined and being set to 0.0 in labels with no predicted samples.\n",
      "  'precision', 'predicted', average, warn_for)\n"
     ]
    }
   ],
   "source": [
    "# Print precision, recall, fbeta-score and confusion matrix\n",
    "\n",
    "print('precision, recall, fbeta-score:')\n",
    "print(precision_recall_fscore_support(test_y_df, svc_predict_test_result, average='weighted'))\n",
    "print('\\nconfusion matrix(tn, fp, fn, tp):')\n",
    "tn, fp, fn, tp = confusion_matrix(test_y_df, svc_predict_test_result).ravel()\n",
    "print((tn, fp, fn, tp))"
   ]
  },
  {
   "cell_type": "markdown",
   "metadata": {},
   "source": [
    "# Neural Network"
   ]
  },
  {
   "cell_type": "code",
   "execution_count": 13,
   "metadata": {
    "scrolled": false
   },
   "outputs": [
    {
     "name": "stdout",
     "output_type": "stream",
     "text": [
      "(2263, 2)\n",
      "   0  1\n",
      "0  1  0\n",
      "1  0  1\n",
      "2  1  0\n",
      "3  0  1\n",
      "4  1  0\n"
     ]
    }
   ],
   "source": [
    "# Define NN output groundtruth\n",
    "\n",
    "falling_prob = pd.DataFrame(data=np.where(train_y_df == 0, 1, 0)[:])\n",
    "train_y_df = pd.DataFrame(data=np.where(train_y_df == 0, 0, 1)[:])\n",
    "train_y_df = pd.concat( [ falling_prob, train_y_df ], axis=1, ignore_index=True )\n",
    "\n",
    "falling_prob = pd.DataFrame(data=np.where(test_y_df == 0, 1, 0)[:])\n",
    "test_y_df = pd.DataFrame(data=np.where(test_y_df == 0, 0, 1)[:])\n",
    "test_y_df = pd.concat( [ falling_prob, test_y_df ], axis=1, ignore_index=True )\n",
    "\n",
    "print(train_y_df.shape)\n",
    "print(train_y_df.head())"
   ]
  },
  {
   "cell_type": "code",
   "execution_count": 14,
   "metadata": {},
   "outputs": [
    {
     "name": "stdout",
     "output_type": "stream",
     "text": [
      "epoch:0 - loss:601.2637939453\n",
      "epoch:100 - loss:416.1742248535\n",
      "epoch:200 - loss:415.3143005371\n",
      "epoch:300 - loss:415.0515747070\n",
      "epoch:400 - loss:414.9420166016\n",
      "epoch:500 - loss:414.8922119141\n",
      "epoch:600 - loss:414.8691406250\n",
      "epoch:700 - loss:414.8576965332\n",
      "epoch:800 - loss:414.8511352539\n",
      "epoch:900 - loss:414.8460083008\n"
     ]
    }
   ],
   "source": [
    "# Define NN structure\n",
    "\n",
    "import torch\n",
    "import torch.nn.functional as F\n",
    "\n",
    "# !--- You can modify the NN structure here ---!\n",
    "class M_NN(torch.nn.Module):\n",
    "    def __init__(self, D_in, H, D_out):\n",
    "        super(M_NN, self).__init__()\n",
    "        self.linear1 = torch.nn.Linear(D_in, H)\n",
    "        self.linear2 = torch.nn.Linear(H, D_out)\n",
    "\n",
    "    def forward(self, x):\n",
    "        h = self.linear1(x)\n",
    "        acti_out = F.relu(h)\n",
    "        y_pred = self.linear2(h)\n",
    "        return y_pred\n",
    "\n",
    "\n",
    "# N = batch size, D_in = input size, H = hidden size, D_out = output size\n",
    "N, D_in, H, D_out = 300, 5, 100, 2  # !--- You can modify here ---!\n",
    "\n",
    "model = M_NN(D_in, H, D_out)\n",
    "criterion = torch.nn.BCEWithLogitsLoss(reduction='sum') # !--- You can modify here ---!\n",
    "optimizer = torch.optim.SGD(model.parameters(), lr=1e-3) # !--- You can modify here ---!\n",
    "\n",
    "\n",
    "        \n",
    "# Train NN\n",
    "\n",
    "# !--- You can modify here ---!\n",
    "\n",
    "for t in range(1000):\n",
    "    for batch_num in range(N, len(normalized_train_x_df), N): \n",
    "        y_pred = model(torch.FloatTensor(normalized_train_x_df[batch_num-N:batch_num].values.tolist())) # !-- Fill the training batch data here --!\n",
    "        loss = criterion(y_pred,torch.FloatTensor(train_y_df[batch_num-N:batch_num].values.tolist())) # !-- Fill the prediction & groundtruth here to calculate loss --!\n",
    "        optimizer.zero_grad()\n",
    "        loss.backward()\n",
    "        optimizer.step()\n",
    "        \n",
    "    if (t%100 == 0):\n",
    "        print('epoch:%d - loss:%.10f' % (t, loss.item()))"
   ]
  },
  {
   "cell_type": "code",
   "execution_count": 15,
   "metadata": {},
   "outputs": [
    {
     "name": "stdout",
     "output_type": "stream",
     "text": [
      "training accuracy:\n",
      "0.5492708793636766\n",
      "\n",
      "testing accuracy:\n",
      "0.5378486055776892\n",
      "\n",
      "predicted testing prob:\n",
      "tensor([[ 3.6900e-02, -3.5839e-02],\n",
      "        [ 5.3766e-02, -5.2789e-02],\n",
      "        [ 2.8402e-02, -2.5727e-02],\n",
      "        [ 4.7879e-02, -4.7052e-02],\n",
      "        [ 3.0503e-02, -2.8926e-02],\n",
      "        [ 1.9684e-02, -1.6864e-02],\n",
      "        [ 2.8376e-02, -2.7171e-02],\n",
      "        [ 6.1004e-02, -5.9937e-02],\n",
      "        [ 7.1682e-02, -7.0796e-02],\n",
      "        [-1.7398e-02,  1.9283e-02],\n",
      "        [ 8.5557e-02, -8.5875e-02],\n",
      "        [ 2.3600e-02, -2.1126e-02],\n",
      "        [ 6.0331e-02, -5.8752e-02],\n",
      "        [ 1.0166e-01, -1.0204e-01],\n",
      "        [ 5.2223e-02, -5.0082e-02],\n",
      "        [ 2.8648e-02, -2.7412e-02],\n",
      "        [ 2.7884e-02, -2.5912e-02],\n",
      "        [ 1.1566e-01, -1.1625e-01],\n",
      "        [ 9.3927e-03, -6.4163e-03],\n",
      "        [ 1.6881e-02, -1.4147e-02],\n",
      "        [ 2.8984e-02, -2.7298e-02],\n",
      "        [ 5.8601e-02, -5.6300e-02],\n",
      "        [-7.8769e-02,  8.1163e-02],\n",
      "        [-1.9307e-01,  1.9348e-01],\n",
      "        [ 2.6492e-01, -2.7738e-01],\n",
      "        [ 6.4363e-04,  3.2690e-03],\n",
      "        [-2.4403e-01,  2.4565e-01],\n",
      "        [ 8.6047e-02, -9.7748e-02],\n",
      "        [ 6.6419e-02, -6.8416e-02],\n",
      "        [ 4.7518e-02, -4.8552e-02],\n",
      "        [ 1.4275e-01, -1.4712e-01],\n",
      "        [ 7.0917e-02, -7.4736e-02],\n",
      "        [ 3.4033e-02, -3.1475e-02],\n",
      "        [-4.0012e-04,  2.0285e-03],\n",
      "        [-3.2476e-02,  3.5867e-02],\n",
      "        [-2.5369e-03,  4.8658e-03],\n",
      "        [ 9.9736e-02, -1.0176e-01],\n",
      "        [ 8.6496e-02, -8.7194e-02],\n",
      "        [-6.2727e-02,  6.5673e-02],\n",
      "        [-7.4140e-02,  7.7003e-02],\n",
      "        [-6.7853e-02,  6.7549e-02],\n",
      "        [ 1.0322e-01, -1.0696e-01],\n",
      "        [ 1.2720e-01, -1.3088e-01],\n",
      "        [ 1.2766e-02, -1.2632e-02],\n",
      "        [ 6.1163e-02, -6.1957e-02],\n",
      "        [ 3.3417e-02, -3.2970e-02],\n",
      "        [ 1.1805e-01, -1.2012e-01],\n",
      "        [ 9.8827e-03, -7.1913e-03],\n",
      "        [-3.7845e-02,  3.9697e-02],\n",
      "        [-3.8160e-02,  4.0180e-02],\n",
      "        [ 1.7482e-03,  4.7071e-04],\n",
      "        [ 5.1062e-02, -4.7263e-02],\n",
      "        [-5.2142e-02,  5.1495e-02],\n",
      "        [ 1.9187e-02, -1.6990e-02],\n",
      "        [ 6.6902e-03, -3.4727e-03],\n",
      "        [-1.0925e-01,  1.1142e-01],\n",
      "        [-1.4521e-01,  1.4715e-01],\n",
      "        [ 1.1527e-01, -1.2131e-01],\n",
      "        [-1.3022e-01,  1.2952e-01],\n",
      "        [-1.2885e-02,  1.4176e-02],\n",
      "        [ 7.5419e-02, -7.6849e-02],\n",
      "        [-1.2739e-01,  1.2446e-01],\n",
      "        [ 5.5620e-02, -5.9005e-02],\n",
      "        [ 1.6465e-01, -1.7278e-01],\n",
      "        [ 1.6256e-02, -1.5253e-02],\n",
      "        [-1.0579e-01,  1.0490e-01],\n",
      "        [-1.9107e-02,  2.2191e-02],\n",
      "        [ 5.1881e-02, -5.1880e-02],\n",
      "        [-1.1147e-02,  1.3888e-02],\n",
      "        [ 2.7057e-02, -2.5302e-02],\n",
      "        [-5.2569e-02,  5.3219e-02],\n",
      "        [ 2.2792e-02, -2.1635e-02],\n",
      "        [ 4.5254e-02, -4.4158e-02],\n",
      "        [ 7.7655e-03, -5.3394e-03],\n",
      "        [-7.5197e-03,  8.6072e-03],\n",
      "        [-4.4638e-02,  4.5801e-02],\n",
      "        [-1.0935e-02,  1.1775e-02],\n",
      "        [-1.0663e-01,  1.0588e-01],\n",
      "        [ 1.4834e-02, -1.6418e-02],\n",
      "        [ 5.1013e-02, -5.0722e-02],\n",
      "        [-8.6409e-03,  9.7522e-03],\n",
      "        [-6.2314e-02,  6.5238e-02],\n",
      "        [ 3.4147e-02, -3.6082e-02],\n",
      "        [-4.2833e-02,  4.5150e-02],\n",
      "        [ 1.1638e-02, -1.4803e-02],\n",
      "        [ 1.1260e-01, -1.1704e-01],\n",
      "        [ 1.0362e-02, -8.4190e-03],\n",
      "        [ 1.1157e-02, -1.0939e-02],\n",
      "        [ 6.2273e-02, -6.2753e-02],\n",
      "        [ 5.6999e-02, -5.6654e-02],\n",
      "        [ 2.3232e-02, -2.1734e-02],\n",
      "        [ 3.6663e-03, -1.2524e-03],\n",
      "        [-6.8384e-03,  8.1574e-03],\n",
      "        [ 3.5270e-02, -3.3598e-02],\n",
      "        [ 1.3947e-02, -1.2152e-02],\n",
      "        [ 4.9580e-04,  2.0272e-03],\n",
      "        [ 3.0880e-02, -2.8686e-02],\n",
      "        [-1.9695e-02,  2.2329e-02],\n",
      "        [ 6.8615e-02, -6.9117e-02],\n",
      "        [ 8.4771e-03, -9.0926e-03],\n",
      "        [ 1.7324e-03,  2.4104e-04],\n",
      "        [-2.4256e-02,  2.4931e-02],\n",
      "        [ 7.0946e-02, -7.0932e-02],\n",
      "        [-1.4779e-02,  1.7229e-02],\n",
      "        [ 5.6379e-02, -5.5537e-02],\n",
      "        [ 2.9865e-02, -2.7552e-02],\n",
      "        [ 1.9451e-02, -1.7822e-02],\n",
      "        [ 7.5966e-02, -7.6445e-02],\n",
      "        [ 1.4518e-02, -1.3060e-02],\n",
      "        [ 5.4744e-02, -5.3946e-02],\n",
      "        [ 2.6452e-02, -2.3301e-02],\n",
      "        [ 2.8646e-02, -2.6722e-02],\n",
      "        [ 9.0188e-04,  2.2849e-03],\n",
      "        [ 2.7263e-02, -2.4856e-02],\n",
      "        [ 6.0238e-02, -5.9492e-02],\n",
      "        [ 4.4845e-02, -4.4352e-02],\n",
      "        [ 5.2616e-02, -5.2493e-02],\n",
      "        [ 1.9162e-02, -1.6345e-02],\n",
      "        [-2.6410e-02,  2.8422e-02],\n",
      "        [ 2.2142e-02, -1.8876e-02],\n",
      "        [-4.1883e-02,  4.1350e-02],\n",
      "        [ 2.0647e-02, -1.8491e-02],\n",
      "        [-5.5417e-02,  5.8479e-02],\n",
      "        [ 6.1612e-02, -6.2189e-02],\n",
      "        [-4.0909e-03,  7.4976e-03],\n",
      "        [ 6.7544e-02, -6.8879e-02],\n",
      "        [-5.4996e-02,  5.7171e-02],\n",
      "        [ 4.4038e-02, -4.4320e-02],\n",
      "        [ 7.1034e-02, -7.2069e-02],\n",
      "        [ 6.1600e-02, -6.0762e-02],\n",
      "        [ 3.5591e-02, -3.3551e-02],\n",
      "        [ 6.1779e-03, -3.5114e-03],\n",
      "        [ 6.5779e-02, -6.5085e-02],\n",
      "        [ 3.6313e-02, -3.4632e-02],\n",
      "        [ 1.7240e-02, -1.4895e-02],\n",
      "        [ 8.1589e-02, -8.1331e-02],\n",
      "        [ 4.2516e-02, -4.0782e-02],\n",
      "        [ 2.0633e-02, -1.8094e-02],\n",
      "        [ 2.3841e-02, -2.0705e-02],\n",
      "        [ 4.7932e-02, -4.6535e-02],\n",
      "        [ 3.7037e-02, -3.5141e-02],\n",
      "        [ 1.1893e-01, -1.1972e-01],\n",
      "        [ 4.9894e-02, -4.6453e-02],\n",
      "        [-1.8908e-02,  2.0040e-02],\n",
      "        [-8.6045e-03,  1.0948e-02],\n",
      "        [ 5.6963e-02, -5.4576e-02],\n",
      "        [ 1.6911e-02, -1.4893e-02],\n",
      "        [ 1.0615e-01, -1.0762e-01],\n",
      "        [ 6.1849e-02, -6.0551e-02],\n",
      "        [ 6.0869e-02, -5.9853e-02],\n",
      "        [ 4.2276e-02, -3.9198e-02],\n",
      "        [ 3.5753e-02, -3.3189e-02],\n",
      "        [ 2.4857e-02, -2.1785e-02],\n",
      "        [ 1.7111e-02, -1.5224e-02],\n",
      "        [-3.4275e-03,  6.2616e-03],\n",
      "        [ 6.2874e-02, -6.1621e-02],\n",
      "        [ 1.4551e-02, -1.4220e-02],\n",
      "        [ 6.0768e-02, -5.8613e-02],\n",
      "        [ 6.8428e-02, -6.7630e-02],\n",
      "        [ 4.1994e-02, -3.9716e-02],\n",
      "        [ 4.2498e-02, -3.9164e-02],\n",
      "        [ 3.6067e-02, -3.3719e-02],\n",
      "        [ 2.4052e-02, -2.1242e-02],\n",
      "        [ 6.6917e-02, -6.5507e-02],\n",
      "        [ 7.5275e-02, -7.3680e-02],\n",
      "        [ 3.1144e-02, -2.8562e-02],\n",
      "        [ 8.0351e-02, -7.9411e-02],\n",
      "        [ 2.4857e-02, -2.2640e-02],\n",
      "        [ 5.4045e-02, -5.2258e-02],\n",
      "        [ 4.6934e-02, -4.5579e-02],\n",
      "        [ 4.2465e-02, -4.1111e-02],\n",
      "        [ 1.9392e-02, -1.8066e-02],\n",
      "        [ 5.0571e-02, -4.8250e-02],\n",
      "        [ 2.6902e-02, -2.3751e-02],\n",
      "        [ 8.5665e-02, -8.5624e-02],\n",
      "        [ 4.8428e-02, -4.6643e-02],\n",
      "        [ 6.7497e-02, -6.5151e-02],\n",
      "        [ 4.2349e-02, -4.0637e-02],\n",
      "        [ 3.9277e-03, -1.2861e-03],\n",
      "        [ 8.2549e-02, -8.1135e-02],\n",
      "        [ 5.1351e-02, -4.8510e-02],\n",
      "        [ 8.5321e-02, -8.3347e-02],\n",
      "        [ 7.3642e-02, -6.9766e-02],\n",
      "        [ 4.8309e-02, -4.5989e-02],\n",
      "        [ 3.5947e-02, -3.2811e-02],\n",
      "        [ 2.5007e-02, -2.1925e-02],\n",
      "        [ 5.4757e-02, -5.1886e-02],\n",
      "        [ 6.4015e-02, -6.1394e-02],\n",
      "        [ 5.2515e-02, -5.0020e-02],\n",
      "        [ 5.2511e-02, -4.9593e-02],\n",
      "        [ 3.9303e-02, -3.6492e-02],\n",
      "        [ 1.0061e-02, -1.0143e-02],\n",
      "        [ 8.1010e-03, -7.8478e-03],\n",
      "        [ 6.5711e-02, -6.6125e-02],\n",
      "        [ 4.2851e-02, -4.0282e-02],\n",
      "        [-1.7315e-01,  1.7509e-01],\n",
      "        [-7.6031e-02,  7.5844e-02],\n",
      "        [ 3.1438e-02, -3.4947e-02],\n",
      "        [-1.2916e-02,  1.5849e-02],\n",
      "        [ 1.4678e-01, -1.4999e-01],\n",
      "        [ 3.0022e-02, -3.1736e-02],\n",
      "        [-5.0634e-02,  5.0987e-02],\n",
      "        [ 1.2233e-02, -9.9551e-03],\n",
      "        [-2.1161e-02,  2.3033e-02],\n",
      "        [ 8.8664e-02, -9.3522e-02],\n",
      "        [-1.7833e-01,  1.7972e-01],\n",
      "        [ 1.0929e-01, -1.1154e-01],\n",
      "        [ 6.7592e-03, -8.6475e-03],\n",
      "        [-7.9841e-02,  7.5809e-02],\n",
      "        [ 1.4312e-01, -1.4682e-01],\n",
      "        [ 5.0799e-02, -4.7595e-02],\n",
      "        [ 9.1828e-02, -9.3395e-02],\n",
      "        [-2.2283e-02,  2.1374e-02],\n",
      "        [ 5.1620e-02, -5.1620e-02],\n",
      "        [ 6.4335e-02, -6.3890e-02],\n",
      "        [ 1.4340e-01, -1.4603e-01],\n",
      "        [ 3.5947e-02, -3.4568e-02],\n",
      "        [ 4.2480e-03, -4.0789e-03],\n",
      "        [-9.5082e-02,  9.6876e-02],\n",
      "        [ 3.8039e-03, -1.4848e-03],\n",
      "        [-6.5437e-02,  6.5407e-02],\n",
      "        [ 1.2881e-01, -1.3519e-01],\n",
      "        [ 7.5962e-02, -7.6204e-02],\n",
      "        [-8.0932e-02,  8.1834e-02],\n",
      "        [-1.5937e-02,  1.7498e-02],\n",
      "        [-2.1031e-02,  2.4236e-02],\n",
      "        [-2.7757e-02,  3.0358e-02],\n",
      "        [ 6.8123e-02, -6.8483e-02],\n",
      "        [ 5.6383e-02, -5.7468e-02],\n",
      "        [ 1.6516e-01, -1.7119e-01],\n",
      "        [ 2.1550e-02, -2.0766e-02],\n",
      "        [ 9.8889e-02, -9.9558e-02],\n",
      "        [ 4.1812e-02, -4.1207e-02],\n",
      "        [-1.7361e-01,  1.7524e-01],\n",
      "        [-1.7268e-01,  1.7433e-01],\n",
      "        [ 1.2463e-01, -1.3387e-01],\n",
      "        [-1.3389e-01,  1.3456e-01],\n",
      "        [ 3.1808e-02, -3.8388e-02],\n",
      "        [-6.3262e-02,  6.3250e-02],\n",
      "        [-1.0486e-02,  1.3949e-02],\n",
      "        [-1.3454e-02,  1.4273e-02],\n",
      "        [-7.4051e-02,  7.5744e-02],\n",
      "        [-1.1387e-01,  1.1363e-01],\n",
      "        [-3.9766e-02,  3.9740e-02],\n",
      "        [-9.7296e-02,  9.7240e-02],\n",
      "        [-7.5895e-02,  7.4142e-02],\n",
      "        [-1.1113e-01,  1.1330e-01],\n",
      "        [-1.8993e-01,  1.9171e-01],\n",
      "        [ 2.5570e-01, -2.7200e-01],\n",
      "        [ 1.0433e-01, -1.1690e-01],\n"
     ]
    },
    {
     "name": "stdout",
     "output_type": "stream",
     "text": [
      "        [-6.1971e-02,  6.2587e-02]], grad_fn=<AddmmBackward>)\n",
      "\n",
      "predicted testing labels:\n",
      "[1 1 1 1 1 1 1 1 1 0 1 1 1 1 1 1 1 1 1 1 1 1 0 0 1 0 0 1 1 1 1 1 1 0 0 0 1\n",
      " 1 0 0 0 1 1 1 1 1 1 1 0 0 1 1 0 1 1 0 0 1 0 0 1 0 1 1 1 0 0 1 0 1 0 1 1 1\n",
      " 0 0 0 0 1 1 0 0 1 0 1 1 1 1 1 1 1 1 0 1 1 0 1 0 1 1 1 0 1 0 1 1 1 1 1 1 1\n",
      " 1 0 1 1 1 1 1 0 1 0 1 0 1 0 1 0 1 1 1 1 1 1 1 1 1 1 1 1 1 1 1 1 0 0 1 1 1\n",
      " 1 1 1 1 1 1 0 1 1 1 1 1 1 1 1 1 1 1 1 1 1 1 1 1 1 1 1 1 1 1 1 1 1 1 1 1 1\n",
      " 1 1 1 1 1 1 1 1 1 1 0 0 1 0 1 1 0 1 0 1 0 1 1 0 1 1 1 0 1 1 1 1 1 0 1 0 1\n",
      " 1 0 0 0 0 1 1 1 1 1 1 0 0 1 0 1 0 0 0 0 0 0 0 0 0 0 1 1 0]\n"
     ]
    }
   ],
   "source": [
    "# Predict\n",
    "\n",
    "nn_predict_train_y =model(torch.FloatTensor(normalized_train_x_df.values.tolist()))  # !-- Predict training data here --!\n",
    "result_train = np.where(nn_predict_train_y[:, 0] > nn_predict_train_y[:, 1], 1, 0) # !-- You can modify here --!\n",
    "print('training accuracy:')\n",
    "print(accuracy_score(train_y_df[0], result_train))\n",
    "\n",
    "nn_predict_test_y =model(torch.FloatTensor(normalized_test_x_df.values.tolist()))  # !-- Predict training data here --!\n",
    "result_test = np.where(nn_predict_test_y[:, 0] > nn_predict_test_y[:, 1], 1, 0) # !-- You can modify here --!\n",
    "print('\\ntesting accuracy:')\n",
    "print(accuracy_score(test_y_df[0], result_test))\n",
    "\n",
    "print('\\npredicted testing prob:')\n",
    "print(nn_predict_test_y)\n",
    "print('\\npredicted testing labels:')\n",
    "print(result_test)"
   ]
  },
  {
   "cell_type": "code",
   "execution_count": 16,
   "metadata": {},
   "outputs": [
    {
     "name": "stdout",
     "output_type": "stream",
     "text": [
      "\n",
      "precision, recall, fbeta-score:\n",
      "(0.5624058700022999, 0.5378486055776892, 0.5164104733847869, None)\n",
      "\n",
      "confusion matrix(tn, fp, fn, tp):\n",
      "(44, 88, 28, 91)\n"
     ]
    }
   ],
   "source": [
    "# Print precision, recall, fbeta-score and confusion matrix\n",
    "\n",
    "print('\\nprecision, recall, fbeta-score:')\n",
    "print(precision_recall_fscore_support(test_y_df[0], result_test, average='weighted'))\n",
    "print('\\nconfusion matrix(tn, fp, fn, tp):')\n",
    "tn, fp, fn, tp = confusion_matrix(test_y_df[0], result_test).ravel()\n",
    "print((tn, fp, fn, tp))"
   ]
  },
  {
   "cell_type": "markdown",
   "metadata": {},
   "source": [
    "# Discussion"
   ]
  }
 ],
 "metadata": {
  "kernelspec": {
   "display_name": "Python 3",
   "language": "python",
   "name": "python3"
  },
  "language_info": {
   "codemirror_mode": {
    "name": "ipython",
    "version": 3
   },
   "file_extension": ".py",
   "mimetype": "text/x-python",
   "name": "python",
   "nbconvert_exporter": "python",
   "pygments_lexer": "ipython3",
   "version": "3.7.1"
  }
 },
 "nbformat": 4,
 "nbformat_minor": 2
}
